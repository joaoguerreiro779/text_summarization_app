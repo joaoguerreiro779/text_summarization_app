{
 "cells": [
  {
   "cell_type": "code",
   "execution_count": null,
   "id": "b7473e1b-6389-4823-89f3-e22b7b5a43d7",
   "metadata": {},
   "outputs": [],
   "source": [
    "import torch\n",
    "import transformers\n",
    "from transformers import AutoModelForSeq2SeqLM, AutoTokenizer"
   ]
  },
  {
   "cell_type": "code",
   "execution_count": null,
   "id": "b5f9f1fd-1fdb-4f16-b337-b7c19b9372d3",
   "metadata": {},
   "outputs": [],
   "source": [
    "query_text = 'The tower is 324 metres (1,063 ft) tall, about the same height as an 81-storey building, and the tallest structure in Paris. Its base is square, measuring 125 metres (410 ft) on each side. During its construction, the Eiffel Tower surpassed the Washington Monument to become the tallest man-made structure in the world, a title it held for 41 years until the Chrysler Building in New York City was finished in 1930. It was the first structure to reach a height of 300 metres. Due to the addition of a broadcasting aerial at the top of the tower in 1957, it is now taller than the Chrysler Building by 5.2 metres (17 ft). Excluding transmitters, the Eiffel Tower is the second tallest free-standing structure in France after the Millau Viaduct.'"
   ]
  },
  {
   "cell_type": "code",
   "execution_count": null,
   "id": "6d8680ee-65c0-42f3-b4c8-de5bff530e12",
   "metadata": {},
   "outputs": [],
   "source": [
    "model = AutoModelForSeq2SeqLM.from_pretrained(\"facebook/bart-large-cnn\")"
   ]
  },
  {
   "cell_type": "code",
   "execution_count": null,
   "id": "b0e2d2b8-1710-440c-ab42-97951cdcad56",
   "metadata": {},
   "outputs": [],
   "source": [
    "tokenizer = AutoTokenizer.from_pretrained(\"philschmid/bart-large-cnn-samsum\")"
   ]
  },
  {
   "cell_type": "code",
   "execution_count": null,
   "id": "3cfd2712-2ac6-4717-b995-e16743d5b237",
   "metadata": {},
   "outputs": [],
   "source": [
    "inputs = tokenizer(ex_text, return_tensors='pt')"
   ]
  },
  {
   "cell_type": "code",
   "execution_count": null,
   "id": "5c5f7273-6500-4e9e-be3b-f2286668c1a7",
   "metadata": {},
   "outputs": [],
   "source": [
    "prediction = model.generate(**inputs)"
   ]
  },
  {
   "cell_type": "code",
   "execution_count": null,
   "id": "7a23d12e-223c-44b3-9356-a90a4cdf3247",
   "metadata": {},
   "outputs": [],
   "source": [
    "tokenizer.batch_decode(prediction)[0]"
   ]
  },
  {
   "cell_type": "code",
   "execution_count": 49,
   "id": "1d84c554-47bf-40ba-9e54-02a70f4525ba",
   "metadata": {},
   "outputs": [],
   "source": [
    "import gcld3"
   ]
  },
  {
   "cell_type": "code",
   "execution_count": 44,
   "id": "151d6db8-e9f8-4a6d-99f2-55adcc30b166",
   "metadata": {},
   "outputs": [],
   "source": [
    "ex = glob('../test/resources/Edge Cases/unreliable_english_1.txt')"
   ]
  },
  {
   "cell_type": "code",
   "execution_count": 47,
   "id": "2b9c57bf-6ffa-4459-847d-cd2229d8a895",
   "metadata": {},
   "outputs": [
    {
     "data": {
      "text/plain": [
       "['../test/resources/Edge Cases/unreliable_english_1.txt']"
      ]
     },
     "execution_count": 47,
     "metadata": {},
     "output_type": "execute_result"
    }
   ],
   "source": [
    "ex"
   ]
  },
  {
   "cell_type": "code",
   "execution_count": 60,
   "id": "9dcad17d-f6cf-419a-91bc-3910b0182c14",
   "metadata": {},
   "outputs": [
    {
     "name": "stdout",
     "output_type": "stream",
     "text": [
      "en True 0.9661674499511719\n"
     ]
    }
   ],
   "source": [
    "with open('../test/resources/Edge Cases/english_german.txt') as f:\n",
    "    text = f.read()\n",
    "    lang_model = gcld3.NNetLanguageIdentifier(min_num_bytes=0, max_num_bytes=1000)\n",
    "    result = lang_model.FindLanguage(text)\n",
    "    print(result.language, result.is_reliable, result.probability)"
   ]
  },
  {
   "cell_type": "code",
   "execution_count": 58,
   "id": "391c6c96-4085-43ca-acd9-6fb2a5a2bdf9",
   "metadata": {},
   "outputs": [
    {
     "data": {
      "text/plain": [
       "('en', True, 0.9661674499511719)"
      ]
     },
     "execution_count": 58,
     "metadata": {},
     "output_type": "execute_result"
    }
   ],
   "source": [
    "result.language, result.is_reliable, result.probability"
   ]
  },
  {
   "cell_type": "markdown",
   "id": "ef27bd12-f73b-4634-80f3-1f9042ab6de9",
   "metadata": {},
   "source": [
    "### Testing regex"
   ]
  },
  {
   "cell_type": "code",
   "execution_count": 45,
   "id": "24400064-f8e0-447f-9d04-2fe59a70249d",
   "metadata": {},
   "outputs": [],
   "source": [
    "import re"
   ]
  },
  {
   "cell_type": "code",
   "execution_count": 46,
   "id": "672b011a-89c2-44f2-9394-a774f0339cf7",
   "metadata": {},
   "outputs": [],
   "source": [
    "ex = '<0.2> 44443.<2221>< 2020.>03.04.01.<>000 3.2.1 111.gai aaa.gai <temperatures>. <><>AAAA.<>'"
   ]
  },
  {
   "cell_type": "code",
   "execution_count": 47,
   "id": "76f39ce5-40fa-4fe0-896a-9faafa3367c8",
   "metadata": {},
   "outputs": [
    {
     "data": {
      "text/plain": [
       "' 44443.03.04.01.000 3.2.1 111.gai aaa.gai . AAAA.'"
      ]
     },
     "execution_count": 47,
     "metadata": {},
     "output_type": "execute_result"
    }
   ],
   "source": [
    "re.sub(r'(\\W^<)?\\<[^>]*\\>(\\W^>)?', '', ex)"
   ]
  },
  {
   "cell_type": "markdown",
   "id": "ea80ebf5-c450-47ca-9586-6ca1d21db90f",
   "metadata": {},
   "source": [
    "### Human summary metrics for reference"
   ]
  },
  {
   "cell_type": "code",
   "execution_count": 1,
   "id": "badb0af3-78af-4641-970d-031447844801",
   "metadata": {},
   "outputs": [],
   "source": [
    "from glob import glob\n",
    "import rouge"
   ]
  },
  {
   "cell_type": "code",
   "execution_count": 2,
   "id": "ba827995-d81c-4270-b7d3-c2f3026125a9",
   "metadata": {},
   "outputs": [],
   "source": [
    "news = glob('../test/resources/News Articles/*/*.txt')\n",
    "summaries = glob('../test/resources/Summaries/*/*.txt')"
   ]
  },
  {
   "cell_type": "code",
   "execution_count": 3,
   "id": "574b760c-d921-4f3a-b006-6e27a19d6dfa",
   "metadata": {},
   "outputs": [],
   "source": [
    "news.sort(key=lambda x: x.split('/')[-1])\n",
    "summaries.sort(key=lambda x: x.split('/')[-1])"
   ]
  },
  {
   "cell_type": "code",
   "execution_count": null,
   "id": "0da2ccc0-8bb4-4c5d-9ddd-0251a80bc419",
   "metadata": {},
   "outputs": [],
   "source": [
    "rouge.get_scores('im blue and im hungry', 'im blue and hungry', avg=True)"
   ]
  },
  {
   "cell_type": "code",
   "execution_count": 5,
   "id": "650e8bc8-70cd-4ef8-a069-4fb9e1590a27",
   "metadata": {},
   "outputs": [],
   "source": [
    "scores_list=[]\n",
    "\n",
    "for i,j in zip(news[1+len(news)//2:],summaries[1+len(summaries)//2:]):\n",
    "    with open(i, 'r') as truth_file, open(j, 'r') as summ_file:\n",
    "        scores_list.append(rouge.get_scores(truth_file.read(), summ_file.read(), avg=True))\n",
    "        break\n"
   ]
  },
  {
   "cell_type": "code",
   "execution_count": 6,
   "id": "54d20b16-a855-46ec-8da5-b87eb9e6929a",
   "metadata": {},
   "outputs": [
    {
     "data": {
      "text/plain": [
       "[]"
      ]
     },
     "execution_count": 6,
     "metadata": {},
     "output_type": "execute_result"
    }
   ],
   "source": []
  },
  {
   "cell_type": "code",
   "execution_count": 24,
   "id": "701eefb3-42ec-409e-91b5-ae9fe1e93cc3",
   "metadata": {},
   "outputs": [],
   "source": [
    "r1_recall_list=[]\n",
    "r1_precision_list=[]\n",
    "r1_f1_list=[]\n",
    "r2_recall_list=[]\n",
    "r2_precision_list=[]\n",
    "r2_f1_list=[]\n",
    "rl_recall_list=[]\n",
    "rl_precision_list=[]\n",
    "rl_f1_list=[]"
   ]
  },
  {
   "cell_type": "code",
   "execution_count": 25,
   "id": "0a0752cc-6a66-4402-8ab3-b945e61dca28",
   "metadata": {},
   "outputs": [],
   "source": [
    "for i in scores_list:\n",
    "    r1_recall_list.append(i['rouge-1']['r'])\n",
    "    r1_precision_list.append(i['rouge-1']['p'])\n",
    "    r1_f1_list.append(i['rouge-1']['f'])\n",
    "\n",
    "    r2_recall_list.append(i['rouge-2']['r'])\n",
    "    r2_precision_list.append(i['rouge-2']['p'])\n",
    "    r2_f1_list.append(i['rouge-2']['f'])\n",
    "\n",
    "    rl_recall_list.append(i['rouge-l']['r'])\n",
    "    rl_precision_list.append(i['rouge-l']['p'])\n",
    "    rl_f1_list.append(i['rouge-l']['f'])"
   ]
  },
  {
   "cell_type": "code",
   "execution_count": 34,
   "id": "3dca382b-bc34-4b39-b067-6efd064ae1c3",
   "metadata": {},
   "outputs": [
    {
     "data": {
      "text/plain": [
       "0.6644245578519652"
      ]
     },
     "execution_count": 34,
     "metadata": {},
     "output_type": "execute_result"
    }
   ],
   "source": [
    "sum(r1_recall_list)/len(r1_recall_list)"
   ]
  },
  {
   "cell_type": "code",
   "execution_count": 35,
   "id": "f313f25c-4b8a-40ee-95c0-949df9f13a39",
   "metadata": {},
   "outputs": [
    {
     "data": {
      "text/plain": [
       "0.5002205025359536"
      ]
     },
     "execution_count": 35,
     "metadata": {},
     "output_type": "execute_result"
    }
   ],
   "source": [
    "sum(r1_precision_list)/len(r1_precision_list)"
   ]
  },
  {
   "cell_type": "code",
   "execution_count": 36,
   "id": "a3c97ff5-fa30-47c6-a2db-fa35a1319529",
   "metadata": {},
   "outputs": [
    {
     "data": {
      "text/plain": [
       "0.6644245578519652"
      ]
     },
     "execution_count": 36,
     "metadata": {},
     "output_type": "execute_result"
    }
   ],
   "source": [
    "sum(r1_f1_list)/len(r1_f1_list)"
   ]
  },
  {
   "cell_type": "code",
   "execution_count": 37,
   "id": "3c626a30-de40-454c-b30f-3f7644069cac",
   "metadata": {},
   "outputs": [
    {
     "data": {
      "text/plain": [
       "0.9619354436942994"
      ]
     },
     "execution_count": 37,
     "metadata": {},
     "output_type": "execute_result"
    }
   ],
   "source": [
    "sum(r2_recall_list)/len(r1_recall_list)"
   ]
  },
  {
   "cell_type": "code",
   "execution_count": 38,
   "id": "d6a55811-294b-4034-a1ec-dc272f342265",
   "metadata": {},
   "outputs": [
    {
     "data": {
      "text/plain": [
       "0.4327511288126716"
      ]
     },
     "execution_count": 38,
     "metadata": {},
     "output_type": "execute_result"
    }
   ],
   "source": [
    "sum(r2_precision_list)/len(r1_precision_list)"
   ]
  },
  {
   "cell_type": "code",
   "execution_count": 39,
   "id": "e46ac4da-3bbf-44f3-a30a-074a51bc9843",
   "metadata": {},
   "outputs": [
    {
     "data": {
      "text/plain": [
       "0.5951495525207326"
      ]
     },
     "execution_count": 39,
     "metadata": {},
     "output_type": "execute_result"
    }
   ],
   "source": [
    "sum(r2_f1_list)/len(r1_f1_list)"
   ]
  },
  {
   "cell_type": "code",
   "execution_count": 40,
   "id": "f257c8cf-db1b-4310-af31-bd3edcd2ccf4",
   "metadata": {},
   "outputs": [
    {
     "data": {
      "text/plain": [
       "0.9975078340817972"
      ]
     },
     "execution_count": 40,
     "metadata": {},
     "output_type": "execute_result"
    }
   ],
   "source": [
    "sum(rl_recall_list)/len(r1_f1_list)"
   ]
  },
  {
   "cell_type": "code",
   "execution_count": 41,
   "id": "a3ec7286-10de-444a-8ec3-d84dfc7c437b",
   "metadata": {},
   "outputs": [
    {
     "data": {
      "text/plain": [
       "0.500216767361195"
      ]
     },
     "execution_count": 41,
     "metadata": {},
     "output_type": "execute_result"
    }
   ],
   "source": [
    "sum(rl_precision_list)/len(r1_f1_list)"
   ]
  },
  {
   "cell_type": "code",
   "execution_count": 42,
   "id": "93470ff0-7a45-4332-b7e4-ebb2eae86ce9",
   "metadata": {},
   "outputs": [
    {
     "data": {
      "text/plain": [
       "0.6644196121597565"
      ]
     },
     "execution_count": 42,
     "metadata": {},
     "output_type": "execute_result"
    }
   ],
   "source": [
    "sum(rl_f1_list)/len(r1_f1_list)"
   ]
  }
 ],
 "metadata": {
  "kernelspec": {
   "display_name": "Python 3 (ipykernel)",
   "language": "python",
   "name": "python3"
  },
  "language_info": {
   "codemirror_mode": {
    "name": "ipython",
    "version": 3
   },
   "file_extension": ".py",
   "mimetype": "text/x-python",
   "name": "python",
   "nbconvert_exporter": "python",
   "pygments_lexer": "ipython3",
   "version": "3.8.5"
  }
 },
 "nbformat": 4,
 "nbformat_minor": 5
}
